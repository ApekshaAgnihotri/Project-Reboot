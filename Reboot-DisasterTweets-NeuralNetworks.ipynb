{
  "nbformat": 4,
  "nbformat_minor": 0,
  "metadata": {
    "colab": {
      "name": "DisasterTweets.ipynb",
      "provenance": []
    },
    "kernelspec": {
      "name": "python3",
      "display_name": "Python 3"
    },
    "accelerator": "GPU"
  },
  "cells": [
    {
      "cell_type": "markdown",
      "metadata": {
        "id": "CiFgChlygEAj"
      },
      "source": [
        "The objective of this notebook is to learn about sequential neural networks used in Text Analysis. Following steps have been performed on the disaster tweets datasets.\n",
        "<UL> \n",
        "  <li>Data Cleaning : \n",
        "    <ul><li>Removal of emojis, @, word abbreviations etc.</li></ul> \n",
        "  </li>\n",
        "  <li>Data Preprocessing :\n",
        "    <ul>\n",
        "      <li> Tokenization</li>\n",
        "      <li> Create encoded documents</li>\n",
        "      <li> Padding the documents</li>\n",
        "      <li> Creating GloVe word embeddings</li>\n",
        "    </ul>\n",
        "  </li>\n",
        "  <li>LSTM</li>\n",
        "  <li>Bidirectional LSTM</li>\n",
        "  <li>GRU</li>\n",
        "  <li>Attention Model</li>\n",
        "</UL>"
      ]
    },
    {
      "cell_type": "markdown",
      "metadata": {
        "id": "8bc7aV0P95RE"
      },
      "source": [
        "## Data Cleaning and Pre-processing"
      ]
    },
    {
      "cell_type": "markdown",
      "metadata": {
        "id": "GaemS7hgkf_h"
      },
      "source": [
        "### Imports"
      ]
    },
    {
      "cell_type": "code",
      "metadata": {
        "id": "wvzi7I_WOqsn"
      },
      "source": [
        "import numpy as np\n",
        "import pandas as pd\n",
        "\n",
        "import keras\n",
        "import nltk\n",
        "import re\n",
        "import string\n",
        "\n",
        "from keras.preprocessing.text import one_hot\n",
        "from keras.layers import LSTM, Embedding, Dense, Bidirectional, GlobalMaxPool2D, BatchNormalization, Dropout, TimeDistributed, GlobalMaxPool1D\n",
        "from keras.preprocessing.sequence import pad_sequences\n",
        "from keras.models import Sequential, Model\n",
        "from keras.layers import SpatialDropout1D, GRU\n",
        "from nltk.corpus import stopwords\n",
        "from nltk.stem.porter import PorterStemmer\n",
        "from keras.optimizers import Adam\n",
        "from sklearn.metrics import accuracy_score, f1_score, precision_score, recall_score"
      ],
      "execution_count": 2,
      "outputs": []
    },
    {
      "cell_type": "markdown",
      "metadata": {
        "id": "XNRtifFwkc_u"
      },
      "source": [
        "### Reading Data"
      ]
    },
    {
      "cell_type": "code",
      "metadata": {
        "colab": {
          "resources": {
            "http://localhost:8080/nbextensions/google.colab/files.js": {
              "data": "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",
              "ok": true,
              "headers": [
                [
                  "content-type",
                  "application/javascript"
                ]
              ],
              "status": 200,
              "status_text": ""
            }
          },
          "base_uri": "https://localhost:8080/",
          "height": 106
        },
        "id": "7T5fD-6FhT0d",
        "outputId": "6ca74579-19ed-4377-cec7-c74aafe87217"
      },
      "source": [
        "#importing data from local filesystem\n",
        "from google.colab import files\n",
        "uploaded = files.upload()\n",
        "\n",
        "import io\n",
        "test = pd.read_csv(io.BytesIO(uploaded['test.csv']))\n",
        "train = pd.read_csv(io.BytesIO(uploaded['train.csv']))"
      ],
      "execution_count": 3,
      "outputs": [
        {
          "output_type": "display_data",
          "data": {
            "text/html": [
              "\n",
              "     <input type=\"file\" id=\"files-e2fbdf25-22b2-4d2a-bdc2-5e75e42b15fc\" name=\"files[]\" multiple disabled\n",
              "        style=\"border:none\" />\n",
              "     <output id=\"result-e2fbdf25-22b2-4d2a-bdc2-5e75e42b15fc\">\n",
              "      Upload widget is only available when the cell has been executed in the\n",
              "      current browser session. Please rerun this cell to enable.\n",
              "      </output>\n",
              "      <script src=\"/nbextensions/google.colab/files.js\"></script> "
            ],
            "text/plain": [
              "<IPython.core.display.HTML object>"
            ]
          },
          "metadata": {
            "tags": []
          }
        },
        {
          "output_type": "stream",
          "text": [
            "Saving train.csv to train.csv\n",
            "Saving test.csv to test.csv\n"
          ],
          "name": "stdout"
        }
      ]
    },
    {
      "cell_type": "code",
      "metadata": {
        "id": "c4xOJyZbhx5y",
        "colab": {
          "base_uri": "https://localhost:8080/"
        },
        "outputId": "9096de1b-96b8-4ba1-b1f8-11563e0c3f5c"
      },
      "source": [
        "test.shape, train.shape"
      ],
      "execution_count": 4,
      "outputs": [
        {
          "output_type": "execute_result",
          "data": {
            "text/plain": [
              "((3263, 4), (7613, 5))"
            ]
          },
          "metadata": {
            "tags": []
          },
          "execution_count": 4
        }
      ]
    },
    {
      "cell_type": "code",
      "metadata": {
        "id": "1dq_CBXdkBB1"
      },
      "source": [
        "label= train['target']"
      ],
      "execution_count": 5,
      "outputs": []
    },
    {
      "cell_type": "code",
      "metadata": {
        "id": "kentiLY6kLUe"
      },
      "source": [
        "train.drop(['target'],axis=1,inplace=True)"
      ],
      "execution_count": 6,
      "outputs": []
    },
    {
      "cell_type": "markdown",
      "metadata": {
        "id": "2dwV0BqAkSbb"
      },
      "source": [
        "### Concat train and test records"
      ]
    },
    {
      "cell_type": "code",
      "metadata": {
        "id": "mP-kc5hXkOhb",
        "colab": {
          "base_uri": "https://localhost:8080/"
        },
        "outputId": "4c713269-c164-4b79-9294-23ee805babc5"
      },
      "source": [
        "data= pd.concat([train,test])\n",
        "data.shape,train.shape,test.shape"
      ],
      "execution_count": 7,
      "outputs": [
        {
          "output_type": "execute_result",
          "data": {
            "text/plain": [
              "((10876, 4), (7613, 4), (3263, 4))"
            ]
          },
          "metadata": {
            "tags": []
          },
          "execution_count": 7
        }
      ]
    },
    {
      "cell_type": "markdown",
      "metadata": {
        "id": "eEhVqWvnkjoy"
      },
      "source": [
        "### Data Cleaning "
      ]
    },
    {
      "cell_type": "code",
      "metadata": {
        "id": "kqV6bwlokVbl"
      },
      "source": [
        "def clean_text(record):\n",
        "  record = record.lower()\n",
        "  record = re.sub('\\[.*?\\]', '', record)\n",
        "  record = re.sub('https?://\\S+|www\\.\\S+', '', record)\n",
        "  record = re.sub('<.*?>+', '', record)\n",
        "  record = re.sub('[%s]' % re.escape(string.punctuation), '', record)\n",
        "  record = re.sub('\\n', '', record)\n",
        "  record = re.sub('\\w*\\d\\w*', '', record)\n",
        "  return record\n",
        "\n",
        "data['text'] = data['text'].apply(lambda x: clean_text(x))"
      ],
      "execution_count": 8,
      "outputs": []
    },
    {
      "cell_type": "code",
      "metadata": {
        "id": "DGq6NsmSlHiT"
      },
      "source": [
        "def remove_emoji(text):\n",
        "    emoji_pattern = re.compile(\"[\"\n",
        "                           u\"\\U0001F600-\\U0001F64F\"  # emoticons\n",
        "                           u\"\\U0001F300-\\U0001F5FF\"  # symbols & pictographs\n",
        "                           u\"\\U0001F680-\\U0001F6FF\"  # transport & map symbols\n",
        "                           u\"\\U0001F1E0-\\U0001F1FF\"  # flags (iOS)\n",
        "                           u\"\\U00002702-\\U000027B0\"\n",
        "                           u\"\\U000024C2-\\U0001F251\"\n",
        "                           \"]+\", flags=re.UNICODE)\n",
        "    return emoji_pattern.sub(r'', text)\n",
        "    \n",
        "data['text']=data['text'].apply(lambda x: remove_emoji(x))\n"
      ],
      "execution_count": 9,
      "outputs": []
    },
    {
      "cell_type": "code",
      "metadata": {
        "id": "6p_rVKWflOlA",
        "colab": {
          "base_uri": "https://localhost:8080/"
        },
        "outputId": "e1e0b34a-fee4-43e8-c83c-12c6ce593d53"
      },
      "source": [
        "contractions = { \n",
        "\"ain't\": \"am not / are not / is not / has not / have not\",\n",
        "\"aren't\": \"are not / am not\",\n",
        "\"can't\": \"cannot\",\n",
        "\"can't've\": \"cannot have\",\n",
        "\"'cause\": \"because\",\n",
        "\"could've\": \"could have\",\n",
        "\"couldn't\": \"could not\",\n",
        "\"couldn't've\": \"could not have\",\n",
        "\"didn't\": \"did not\",\n",
        "\"doesn't\": \"does not\",\n",
        "\"don't\": \"do not\",\n",
        "\"hadn't\": \"had not\",\n",
        "\"hadn't've\": \"had not have\",\n",
        "\"hasn't\": \"has not\",\n",
        "\"haven't\": \"have not\",\n",
        "\"he'd\": \"he had / he would\",\n",
        "\"he'd've\": \"he would have\",\n",
        "\"he'll\": \"he shall / he will\",\n",
        "\"he'll've\": \"he shall have / he will have\",\n",
        "\"he's\": \"he has / he is\",\n",
        "\"how'd\": \"how did\",\n",
        "\"how'd'y\": \"how do you\",\n",
        "\"how'll\": \"how will\",\n",
        "\"how's\": \"how has / how is / how does\",\n",
        "\"I'd\": \"I had / I would\",\n",
        "\"I'd've\": \"I would have\",\n",
        "\"I'll\": \"I shall / I will\",\n",
        "\"I'll've\": \"I shall have / I will have\",\n",
        "\"I'm\": \"I am\",\n",
        "\"I've\": \"I have\",\n",
        "\"isn't\": \"is not\",\n",
        "\"it'd\": \"it had / it would\",\n",
        "\"it'd've\": \"it would have\",\n",
        "\"it'll\": \"it shall / it will\",\n",
        "\"it'll've\": \"it shall have / it will have\",\n",
        "\"it's\": \"it has / it is\",\n",
        "\"let's\": \"let us\",\n",
        "\"ma'am\": \"madam\",\n",
        "\"mayn't\": \"may not\",\n",
        "\"might've\": \"might have\",\n",
        "\"mightn't\": \"might not\",\n",
        "\"mightn't've\": \"might not have\",\n",
        "\"must've\": \"must have\",\n",
        "\"mustn't\": \"must not\",\n",
        "\"mustn't've\": \"must not have\",\n",
        "\"needn't\": \"need not\",\n",
        "\"needn't've\": \"need not have\",\n",
        "\"o'clock\": \"of the clock\",\n",
        "\"oughtn't\": \"ought not\",\n",
        "\"oughtn't've\": \"ought not have\",\n",
        "\"shan't\": \"shall not\",\n",
        "\"sha'n't\": \"shall not\",\n",
        "\"shan't've\": \"shall not have\",\n",
        "\"she'd\": \"she had / she would\",\n",
        "\"she'd've\": \"she would have\",\n",
        "\"she'll\": \"she shall / she will\",\n",
        "\"she'll've\": \"she shall have / she will have\",\n",
        "\"she's\": \"she has / she is\",\n",
        "\"should've\": \"should have\",\n",
        "\"shouldn't\": \"should not\",\n",
        "\"shouldn't've\": \"should not have\",\n",
        "\"so've\": \"so have\",\n",
        "\"so's\": \"so as / so is\",\n",
        "\"that'd\": \"that would / that had\",\n",
        "\"that'd've\": \"that would have\",\n",
        "\"that's\": \"that has / that is\",\n",
        "\"there'd\": \"there had / there would\",\n",
        "\"there'd've\": \"there would have\",\n",
        "\"there's\": \"there has / there is\",\n",
        "\"they'd\": \"they had / they would\",\n",
        "\"they'd've\": \"they would have\",\n",
        "\"they'll\": \"they shall / they will\",\n",
        "\"they'll've\": \"they shall have / they will have\",\n",
        "\"they're\": \"they are\",\n",
        "\"they've\": \"they have\",\n",
        "\"to've\": \"to have\",\n",
        "\"wasn't\": \"was not\",\n",
        "\"we'd\": \"we had / we would\",\n",
        "\"we'd've\": \"we would have\",\n",
        "\"we'll\": \"we will\",\n",
        "\"we'll've\": \"we will have\",\n",
        "\"we're\": \"we are\",\n",
        "\"we've\": \"we have\",\n",
        "\"weren't\": \"were not\",\n",
        "\"what'll\": \"what shall / what will\",\n",
        "\"what'll've\": \"what shall have / what will have\",\n",
        "\"what're\": \"what are\",\n",
        "\"what's\": \"what has / what is\",\n",
        "\"what've\": \"what have\",\n",
        "\"when's\": \"when has / when is\",\n",
        "\"when've\": \"when have\",\n",
        "\"where'd\": \"where did\",\n",
        "\"where's\": \"where has / where is\",\n",
        "\"where've\": \"where have\",\n",
        "\"who'll\": \"who shall / who will\",\n",
        "\"who'll've\": \"who shall have / who will have\",\n",
        "\"who's\": \"who has / who is\",\n",
        "\"who've\": \"who have\",\n",
        "\"why's\": \"why has / why is\",\n",
        "\"why've\": \"why have\",\n",
        "\"will've\": \"will have\",\n",
        "\"won't\": \"will not\",\n",
        "\"won't've\": \"will not have\",\n",
        "\"would've\": \"would have\",\n",
        "\"wouldn't\": \"would not\",\n",
        "\"wouldn't've\": \"would not have\",\n",
        "\"y'all\": \"you all\",\n",
        "\"y'all'd\": \"you all would\",\n",
        "\"y'all'd've\": \"you all would have\",\n",
        "\"y'all're\": \"you all are\",\n",
        "\"y'all've\": \"you all have\",\n",
        "\"you'd\": \"you had / you would\",\n",
        "\"you'd've\": \"you would have\",\n",
        "\"you'll\": \"you shall / you will\",\n",
        "\"you'll've\": \"you shall have / you will have\",\n",
        "\"you're\": \"you are\",\n",
        "\"you've\": \"you have\"\n",
        "}\n",
        "\n",
        "contractions_re = re.compile('(%s)' % '|'.join(contractions.keys()))\n",
        "def expand_contractions(s, contractions = contractions):\n",
        "    def replace(match):\n",
        "        return contractions[match.group(0)]\n",
        "    return contractions_re.sub(replace, s)\n",
        "\n",
        "print(expand_contractions(\"can't shouldn't won't haven't\"))\n",
        "data['text'] =data['text'].apply(expand_contractions)\n"
      ],
      "execution_count": 10,
      "outputs": [
        {
          "output_type": "stream",
          "text": [
            "cannot should not will not have not\n"
          ],
          "name": "stdout"
        }
      ]
    },
    {
      "cell_type": "code",
      "metadata": {
        "id": "Hqu8KlmplYaC"
      },
      "source": [
        "train = data[:train.shape[0]]\n",
        "test = data[train.shape[0]:]"
      ],
      "execution_count": 11,
      "outputs": []
    },
    {
      "cell_type": "code",
      "metadata": {
        "id": "wTwLkSQEl492",
        "colab": {
          "base_uri": "https://localhost:8080/"
        },
        "outputId": "9b1b78bb-1138-4df7-ea82-2c41bc9f1f7c"
      },
      "source": [
        "train.shape, test.shape"
      ],
      "execution_count": 12,
      "outputs": [
        {
          "output_type": "execute_result",
          "data": {
            "text/plain": [
              "((7613, 4), (3263, 4))"
            ]
          },
          "metadata": {
            "tags": []
          },
          "execution_count": 12
        }
      ]
    },
    {
      "cell_type": "code",
      "metadata": {
        "id": "KnE_US6Al7kP"
      },
      "source": [
        "tweets= train['text'].copy()\n",
        "tweets_test = test['text'].copy()"
      ],
      "execution_count": 13,
      "outputs": []
    },
    {
      "cell_type": "markdown",
      "metadata": {
        "id": "WHzl--0amGZ1"
      },
      "source": [
        "### Tokenization and Preparing padded dataset"
      ]
    },
    {
      "cell_type": "code",
      "metadata": {
        "id": "6q38pk3umKRl"
      },
      "source": [
        "from keras.preprocessing.text import Tokenizer\n",
        "t = Tokenizer()\n",
        "t.fit_on_texts(tweets)\n",
        "vocab_size_train = len(t.word_index) + 1\n",
        "# integer encode the documents\n",
        "encoded_docs = t.texts_to_sequences(tweets)\n",
        "# pad documents to a max length of 4 word\n",
        "max_length = 50\n",
        "padded_docs = pad_sequences(encoded_docs, maxlen=max_length, padding='post')"
      ],
      "execution_count": 14,
      "outputs": []
    },
    {
      "cell_type": "code",
      "metadata": {
        "id": "ADp40rBjm4xx"
      },
      "source": [
        "tweets = padded_docs"
      ],
      "execution_count": 15,
      "outputs": []
    },
    {
      "cell_type": "code",
      "metadata": {
        "id": "xDF1HczNop5r",
        "colab": {
          "base_uri": "https://localhost:8080/"
        },
        "outputId": "e4a8f7e3-7b74-4ede-de2d-4ff340b27476"
      },
      "source": [
        "tweets[0]"
      ],
      "execution_count": 16,
      "outputs": [
        {
          "output_type": "execute_result",
          "data": {
            "text/plain": [
              "array([ 107, 4290,   20,    1,  834,    5,   18,  231,  123, 1629, 4291,\n",
              "         68,   39,    0,    0,    0,    0,    0,    0,    0,    0,    0,\n",
              "          0,    0,    0,    0,    0,    0,    0,    0,    0,    0,    0,\n",
              "          0,    0,    0,    0,    0,    0,    0,    0,    0,    0,    0,\n",
              "          0,    0,    0,    0,    0,    0], dtype=int32)"
            ]
          },
          "metadata": {
            "tags": []
          },
          "execution_count": 16
        }
      ]
    },
    {
      "cell_type": "code",
      "metadata": {
        "id": "5NF1LZ6so8Jj"
      },
      "source": [
        "from keras.preprocessing.text import Tokenizer\n",
        "t = Tokenizer()\n",
        "t.fit_on_texts(tweets_test)\n",
        "vocab_size_test = len(t.word_index) + 1\n",
        "# integer encode the documents\n",
        "encoded_docs = t.texts_to_sequences(tweets_test)\n",
        "# pad documents to a max length of 4 words\n",
        "max_length = 50\n",
        "padded_docs = pad_sequences(encoded_docs, maxlen=max_length, padding='post')"
      ],
      "execution_count": 17,
      "outputs": []
    },
    {
      "cell_type": "code",
      "metadata": {
        "id": "rZN_c3P6zPTR"
      },
      "source": [
        "tweets_test= padded_docs"
      ],
      "execution_count": 18,
      "outputs": []
    },
    {
      "cell_type": "markdown",
      "metadata": {
        "id": "FnxIlEqmzqp4"
      },
      "source": [
        "### Word Embedding - GloVe"
      ]
    },
    {
      "cell_type": "code",
      "metadata": {
        "colab": {
          "base_uri": "https://localhost:8080/"
        },
        "id": "74u_KcvQzhBB",
        "outputId": "da542ddd-2986-485e-af6c-90a9e74bc03c"
      },
      "source": [
        "from google.colab import drive\n",
        "drive.mount('/content/gdrive')\n",
        "\n"
      ],
      "execution_count": 19,
      "outputs": [
        {
          "output_type": "stream",
          "text": [
            "Mounted at /content/gdrive\n"
          ],
          "name": "stdout"
        }
      ]
    },
    {
      "cell_type": "code",
      "metadata": {
        "id": "MO-LtSg24p-l"
      },
      "source": [
        "!unzip -uq \"/content/gdrive/My Drive/Colab Notebooks/DisasterTweets/glove.6B.200d.txt\" -d \"/content/gdrive/My Drive/Colab Notebooks/DisasterTweets/glove.6B.200d.txt\"\n"
      ],
      "execution_count": 20,
      "outputs": []
    },
    {
      "cell_type": "code",
      "metadata": {
        "colab": {
          "base_uri": "https://localhost:8080/"
        },
        "id": "HZEZ3BbU2SdL",
        "outputId": "c11debcb-4732-4d72-f4c5-4de194845b14"
      },
      "source": [
        "embeddings_index = dict()\n",
        "f = open(\"/content/gdrive/My Drive/Colab Notebooks/DisasterTweets/glove.6B.200d.txt/glove.6B.200d.txt\")\n",
        "for line in f:\n",
        "  values = line.split()\n",
        "  word = values[0]\n",
        "  coefs = np.asarray(values[1:], dtype = 'float32')\n",
        "  embeddings_index[word] = coefs\n",
        "f.close()\n",
        "print(\"Loaded %s word vectors \" %len(embeddings_index) )"
      ],
      "execution_count": 21,
      "outputs": [
        {
          "output_type": "stream",
          "text": [
            "Loaded 400000 word vectors \n"
          ],
          "name": "stdout"
        }
      ]
    },
    {
      "cell_type": "code",
      "metadata": {
        "id": "qYaBMUmx2YdM"
      },
      "source": [
        "embedding_matrix = np.zeros((vocab_size_train, 200))\n",
        "for word, i in t.word_index.items():\n",
        "  embedding_vector = embeddings_index.get(word)\n",
        "  if embedding_vector is not None :\n",
        "    embedding_matrix[i] = embedding_vector "
      ],
      "execution_count": 22,
      "outputs": []
    },
    {
      "cell_type": "code",
      "metadata": {
        "colab": {
          "base_uri": "https://localhost:8080/"
        },
        "id": "IUujbCfC0U31",
        "outputId": "888d2d65-fa04-4195-dec4-56b919cd8f72"
      },
      "source": [
        "embedding_matrix.shape"
      ],
      "execution_count": 23,
      "outputs": [
        {
          "output_type": "execute_result",
          "data": {
            "text/plain": [
              "(16834, 200)"
            ]
          },
          "metadata": {
            "tags": []
          },
          "execution_count": 23
        }
      ]
    },
    {
      "cell_type": "code",
      "metadata": {
        "colab": {
          "base_uri": "https://localhost:8080/"
        },
        "id": "iav7K4PH8SVl",
        "outputId": "1670c548-74f3-4fd4-9bee-dc9e79239b4d"
      },
      "source": [
        "vocab_size_train"
      ],
      "execution_count": 24,
      "outputs": [
        {
          "output_type": "execute_result",
          "data": {
            "text/plain": [
              "16834"
            ]
          },
          "metadata": {
            "tags": []
          },
          "execution_count": 24
        }
      ]
    },
    {
      "cell_type": "markdown",
      "metadata": {
        "id": "FN4FTFJ_86oR"
      },
      "source": [
        "### Embedding layer and Optimizer"
      ]
    },
    {
      "cell_type": "code",
      "metadata": {
        "id": "lTaw5e-M8gkJ"
      },
      "source": [
        "e = Embedding(vocab_size_train, 200, weights = [embedding_matrix], input_length = 100, trainable = False)"
      ],
      "execution_count": 25,
      "outputs": []
    },
    {
      "cell_type": "code",
      "metadata": {
        "id": "g7TFlgz89GOf"
      },
      "source": [
        "from sklearn.model_selection import train_test_split\n",
        "X_train, X_val, y_train, y_val = train_test_split(tweets, label)"
      ],
      "execution_count": 26,
      "outputs": []
    },
    {
      "cell_type": "code",
      "metadata": {
        "id": "iLGkcE-49dDR"
      },
      "source": [
        "opt =  Adam(lr = 0.001, decay = 1e-6)"
      ],
      "execution_count": 27,
      "outputs": []
    },
    {
      "cell_type": "markdown",
      "metadata": {
        "id": "nncXCK2C9orN"
      },
      "source": [
        "## LSTM"
      ]
    },
    {
      "cell_type": "code",
      "metadata": {
        "colab": {
          "base_uri": "https://localhost:8080/"
        },
        "id": "RZUV-NiW9l7i",
        "outputId": "130f9055-820d-42c3-ccb1-86bd50599450"
      },
      "source": [
        "model = Sequential()\n",
        "model.add(e)\n",
        "model.add(LSTM(100, dropout = 0.3, recurrent_dropout= 0.3))\n",
        "model.add(BatchNormalization())\n",
        "model.add(Dense(1, activation = \"sigmoid\"))\n",
        "model.compile(optimizer = opt, loss = 'binary_crossentropy', metrics = ['accuracy'])"
      ],
      "execution_count": 28,
      "outputs": [
        {
          "output_type": "stream",
          "text": [
            "WARNING:tensorflow:Layer lstm will not use cuDNN kernel since it doesn't meet the cuDNN kernel criteria. It will use generic GPU kernel as fallback when running on GPU\n"
          ],
          "name": "stdout"
        }
      ]
    },
    {
      "cell_type": "code",
      "metadata": {
        "colab": {
          "base_uri": "https://localhost:8080/"
        },
        "id": "g78g5fIU-bqq",
        "outputId": "d81c1eb8-8834-471e-c0c9-d9a643b2e790"
      },
      "source": [
        "history = model.fit(X_train, y_train, validation_data = (X_val, y_val), epochs = 20, batch_size = 64, verbose = 1 )"
      ],
      "execution_count": 29,
      "outputs": [
        {
          "output_type": "stream",
          "text": [
            "Epoch 1/20\n",
            "WARNING:tensorflow:Model was constructed with shape (None, 100) for input KerasTensor(type_spec=TensorSpec(shape=(None, 100), dtype=tf.float32, name='embedding_input'), name='embedding_input', description=\"created by layer 'embedding_input'\"), but it was called on an input with incompatible shape (None, 50).\n",
            "WARNING:tensorflow:Model was constructed with shape (None, 100) for input KerasTensor(type_spec=TensorSpec(shape=(None, 100), dtype=tf.float32, name='embedding_input'), name='embedding_input', description=\"created by layer 'embedding_input'\"), but it was called on an input with incompatible shape (None, 50).\n",
            "90/90 [==============================] - ETA: 0s - loss: 0.6791 - accuracy: 0.5514WARNING:tensorflow:Model was constructed with shape (None, 100) for input KerasTensor(type_spec=TensorSpec(shape=(None, 100), dtype=tf.float32, name='embedding_input'), name='embedding_input', description=\"created by layer 'embedding_input'\"), but it was called on an input with incompatible shape (None, 50).\n",
            "90/90 [==============================] - 18s 158ms/step - loss: 0.6790 - accuracy: 0.5518 - val_loss: 0.6832 - val_accuracy: 0.5588\n",
            "Epoch 2/20\n",
            "90/90 [==============================] - 14s 152ms/step - loss: 0.6345 - accuracy: 0.6488 - val_loss: 0.6594 - val_accuracy: 0.5751\n",
            "Epoch 3/20\n",
            "90/90 [==============================] - 14s 155ms/step - loss: 0.5999 - accuracy: 0.6813 - val_loss: 0.6339 - val_accuracy: 0.6439\n",
            "Epoch 4/20\n",
            "90/90 [==============================] - 14s 153ms/step - loss: 0.5687 - accuracy: 0.7182 - val_loss: 0.6187 - val_accuracy: 0.6896\n",
            "Epoch 5/20\n",
            "90/90 [==============================] - 14s 154ms/step - loss: 0.5293 - accuracy: 0.7395 - val_loss: 0.5629 - val_accuracy: 0.7122\n",
            "Epoch 6/20\n",
            "90/90 [==============================] - 14s 154ms/step - loss: 0.4944 - accuracy: 0.7735 - val_loss: 0.5736 - val_accuracy: 0.6922\n",
            "Epoch 7/20\n",
            "90/90 [==============================] - 14s 153ms/step - loss: 0.4744 - accuracy: 0.7867 - val_loss: 0.5493 - val_accuracy: 0.7579\n",
            "Epoch 8/20\n",
            "90/90 [==============================] - 14s 156ms/step - loss: 0.4548 - accuracy: 0.7930 - val_loss: 0.5792 - val_accuracy: 0.7316\n",
            "Epoch 9/20\n",
            "90/90 [==============================] - 14s 154ms/step - loss: 0.4263 - accuracy: 0.8113 - val_loss: 0.5006 - val_accuracy: 0.7642\n",
            "Epoch 10/20\n",
            "90/90 [==============================] - 14s 156ms/step - loss: 0.4162 - accuracy: 0.8183 - val_loss: 0.5951 - val_accuracy: 0.7663\n",
            "Epoch 11/20\n",
            "90/90 [==============================] - 14s 153ms/step - loss: 0.3899 - accuracy: 0.8343 - val_loss: 0.5101 - val_accuracy: 0.7742\n",
            "Epoch 12/20\n",
            "90/90 [==============================] - 14s 155ms/step - loss: 0.3634 - accuracy: 0.8445 - val_loss: 0.5281 - val_accuracy: 0.7610\n",
            "Epoch 13/20\n",
            "90/90 [==============================] - 14s 152ms/step - loss: 0.3580 - accuracy: 0.8433 - val_loss: 0.7448 - val_accuracy: 0.7453\n",
            "Epoch 14/20\n",
            "90/90 [==============================] - 14s 153ms/step - loss: 0.3399 - accuracy: 0.8579 - val_loss: 0.5220 - val_accuracy: 0.7710\n",
            "Epoch 15/20\n",
            "90/90 [==============================] - 14s 160ms/step - loss: 0.3251 - accuracy: 0.8676 - val_loss: 0.5450 - val_accuracy: 0.7642\n",
            "Epoch 16/20\n",
            "90/90 [==============================] - 14s 157ms/step - loss: 0.3159 - accuracy: 0.8699 - val_loss: 0.5073 - val_accuracy: 0.7721\n",
            "Epoch 17/20\n",
            "90/90 [==============================] - 14s 159ms/step - loss: 0.2970 - accuracy: 0.8811 - val_loss: 0.6646 - val_accuracy: 0.7237\n",
            "Epoch 18/20\n",
            "90/90 [==============================] - 14s 157ms/step - loss: 0.2803 - accuracy: 0.8809 - val_loss: 0.5725 - val_accuracy: 0.7647\n",
            "Epoch 19/20\n",
            "90/90 [==============================] - 14s 153ms/step - loss: 0.2808 - accuracy: 0.8820 - val_loss: 0.7485 - val_accuracy: 0.7500\n",
            "Epoch 20/20\n",
            "90/90 [==============================] - 14s 160ms/step - loss: 0.2931 - accuracy: 0.8789 - val_loss: 0.6403 - val_accuracy: 0.7689\n"
          ],
          "name": "stdout"
        }
      ]
    },
    {
      "cell_type": "code",
      "metadata": {
        "colab": {
          "base_uri": "https://localhost:8080/",
          "height": 295
        },
        "id": "nwUJX0fy-rS4",
        "outputId": "5390b476-52ea-4b5e-92ac-dcf8445aae63"
      },
      "source": [
        "import matplotlib.pyplot as plt\n",
        "plt.plot(history.history['accuracy'], label = 'train_accuracy')\n",
        "plt.plot(history.history['val_accuracy'], label = 'validation_accuracy')\n",
        "plt.title('Training History')\n",
        "plt.ylabel('Accuracy')\n",
        "plt.xlabel('Epoch')\n",
        "plt.legend()\n",
        "plt.ylim([0,1]);"
      ],
      "execution_count": 30,
      "outputs": [
        {
          "output_type": "display_data",
          "data": {
            "image/png": "[encoded data removed]",
            "text/plain": [
              "<Figure size 432x288 with 1 Axes>"
            ]
          },
          "metadata": {
            "tags": [],
            "needs_background": "light"
          }
        }
      ]
    },
    {
      "cell_type": "code",
      "metadata": {
        "colab": {
          "base_uri": "https://localhost:8080/"
        },
        "id": "TPHTIrgg_g9G",
        "outputId": "9465b4af-5eb7-4be2-9031-fa986f3bc0a2"
      },
      "source": [
        "y_pred_lstm =  model.predict_classes(X_val)"
      ],
      "execution_count": 31,
      "outputs": [
        {
          "output_type": "stream",
          "text": [
            "WARNING:tensorflow:Model was constructed with shape (None, 100) for input KerasTensor(type_spec=TensorSpec(shape=(None, 100), dtype=tf.float32, name='embedding_input'), name='embedding_input', description=\"created by layer 'embedding_input'\"), but it was called on an input with incompatible shape (None, 50).\n"
          ],
          "name": "stdout"
        },
        {
          "output_type": "stream",
          "text": [
            "/usr/local/lib/python3.7/dist-packages/tensorflow/python/keras/engine/sequential.py:450: UserWarning: `model.predict_classes()` is deprecated and will be removed after 2021-01-01. Please use instead:* `np.argmax(model.predict(x), axis=-1)`,   if your model does multi-class classification   (e.g. if it uses a `softmax` last-layer activation).* `(model.predict(x) > 0.5).astype(\"int32\")`,   if your model does binary classification   (e.g. if it uses a `sigmoid` last-layer activation).\n",
            "  warnings.warn('`model.predict_classes()` is deprecated and '\n"
          ],
          "name": "stderr"
        }
      ]
    },
    {
      "cell_type": "code",
      "metadata": {
        "colab": {
          "base_uri": "https://localhost:8080/"
        },
        "id": "uW1CZnI9_qUV",
        "outputId": "a1160c6a-0c6c-4002-d8b2-0e9005d426bd"
      },
      "source": [
        "from sklearn.metrics import accuracy_score\n",
        "accuracy_lstm = accuracy_score(y_pred_lstm, y_val)\n",
        "print(\"Accuracy with LSTM model: {} %\".format(accuracy_lstm * 100))"
      ],
      "execution_count": 32,
      "outputs": [
        {
          "output_type": "stream",
          "text": [
            "Accuracy with LSTM model: 76.89075630252101 %\n"
          ],
          "name": "stdout"
        }
      ]
    },
    {
      "cell_type": "markdown",
      "metadata": {
        "id": "PyvGpAbLAG0W"
      },
      "source": [
        "## Bidirectional LSTM"
      ]
    },
    {
      "cell_type": "code",
      "metadata": {
        "colab": {
          "base_uri": "https://localhost:8080/"
        },
        "id": "_JZKDJ3pAKkg",
        "outputId": "edf6d1db-c3e0-4cb8-b1a4-5548533aad88"
      },
      "source": [
        "model = Sequential()\n",
        "model.add(e)\n",
        "model.add(Bidirectional(LSTM(100, dropout = 0.3, recurrent_dropout = 0.3)))\n",
        "model.add(BatchNormalization())\n",
        "model.add(Dense(1, activation = 'sigmoid'))\n",
        "model.compile(optimizer = 'adam', loss = 'binary_crossentropy', metrics = ['accuracy'] )"
      ],
      "execution_count": 33,
      "outputs": [
        {
          "output_type": "stream",
          "text": [
            "WARNING:tensorflow:Layer lstm_1 will not use cuDNN kernel since it doesn't meet the cuDNN kernel criteria. It will use generic GPU kernel as fallback when running on GPU\n",
            "WARNING:tensorflow:Layer lstm_1 will not use cuDNN kernel since it doesn't meet the cuDNN kernel criteria. It will use generic GPU kernel as fallback when running on GPU\n",
            "WARNING:tensorflow:Layer lstm_1 will not use cuDNN kernel since it doesn't meet the cuDNN kernel criteria. It will use generic GPU kernel as fallback when running on GPU\n"
          ],
          "name": "stdout"
        }
      ]
    },
    {
      "cell_type": "code",
      "metadata": {
        "colab": {
          "base_uri": "https://localhost:8080/"
        },
        "id": "HIczqjchA93b",
        "outputId": "d784abd7-8122-4627-8910-324612200b73"
      },
      "source": [
        "hist = model.fit(X_train, y_train, validation_data = (X_val, y_val), epochs = 20, batch_size = 64, verbose = 1)"
      ],
      "execution_count": 34,
      "outputs": [
        {
          "output_type": "stream",
          "text": [
            "Epoch 1/20\n",
            "WARNING:tensorflow:Model was constructed with shape (None, 100) for input KerasTensor(type_spec=TensorSpec(shape=(None, 100), dtype=tf.float32, name='embedding_input'), name='embedding_input', description=\"created by layer 'embedding_input'\"), but it was called on an input with incompatible shape (None, 50).\n",
            "WARNING:tensorflow:Model was constructed with shape (None, 100) for input KerasTensor(type_spec=TensorSpec(shape=(None, 100), dtype=tf.float32, name='embedding_input'), name='embedding_input', description=\"created by layer 'embedding_input'\"), but it was called on an input with incompatible shape (None, 50).\n",
            "90/90 [==============================] - ETA: 0s - loss: 0.6915 - accuracy: 0.5791WARNING:tensorflow:Model was constructed with shape (None, 100) for input KerasTensor(type_spec=TensorSpec(shape=(None, 100), dtype=tf.float32, name='embedding_input'), name='embedding_input', description=\"created by layer 'embedding_input'\"), but it was called on an input with incompatible shape (None, 50).\n",
            "90/90 [==============================] - 31s 303ms/step - loss: 0.6912 - accuracy: 0.5795 - val_loss: 0.6594 - val_accuracy: 0.5725\n",
            "Epoch 2/20\n",
            "90/90 [==============================] - 26s 290ms/step - loss: 0.6002 - accuracy: 0.6764 - val_loss: 0.6348 - val_accuracy: 0.6350\n",
            "Epoch 3/20\n",
            "90/90 [==============================] - 26s 290ms/step - loss: 0.5442 - accuracy: 0.7241 - val_loss: 0.6228 - val_accuracy: 0.6465\n",
            "Epoch 4/20\n",
            "90/90 [==============================] - 26s 292ms/step - loss: 0.5188 - accuracy: 0.7485 - val_loss: 0.5779 - val_accuracy: 0.7064\n",
            "Epoch 5/20\n",
            "90/90 [==============================] - 27s 302ms/step - loss: 0.4893 - accuracy: 0.7653 - val_loss: 0.5753 - val_accuracy: 0.7132\n",
            "Epoch 6/20\n",
            "90/90 [==============================] - 26s 292ms/step - loss: 0.4534 - accuracy: 0.7935 - val_loss: 0.6422 - val_accuracy: 0.7064\n",
            "Epoch 7/20\n",
            "90/90 [==============================] - 27s 298ms/step - loss: 0.4247 - accuracy: 0.8102 - val_loss: 0.5526 - val_accuracy: 0.7384\n",
            "Epoch 8/20\n",
            "90/90 [==============================] - 27s 298ms/step - loss: 0.3996 - accuracy: 0.8182 - val_loss: 0.5646 - val_accuracy: 0.7342\n",
            "Epoch 9/20\n",
            "90/90 [==============================] - 27s 297ms/step - loss: 0.3743 - accuracy: 0.8355 - val_loss: 0.5633 - val_accuracy: 0.7421\n",
            "Epoch 10/20\n",
            "90/90 [==============================] - 26s 292ms/step - loss: 0.3430 - accuracy: 0.8587 - val_loss: 0.5673 - val_accuracy: 0.7511\n",
            "Epoch 11/20\n",
            "90/90 [==============================] - 26s 294ms/step - loss: 0.3369 - accuracy: 0.8551 - val_loss: 0.5892 - val_accuracy: 0.7474\n",
            "Epoch 12/20\n",
            "90/90 [==============================] - 27s 296ms/step - loss: 0.3070 - accuracy: 0.8756 - val_loss: 0.5921 - val_accuracy: 0.7384\n",
            "Epoch 13/20\n",
            "90/90 [==============================] - 27s 300ms/step - loss: 0.2837 - accuracy: 0.8808 - val_loss: 0.6452 - val_accuracy: 0.7553\n",
            "Epoch 14/20\n",
            "90/90 [==============================] - 26s 290ms/step - loss: 0.2544 - accuracy: 0.8991 - val_loss: 0.6260 - val_accuracy: 0.7243\n",
            "Epoch 15/20\n",
            "90/90 [==============================] - 26s 291ms/step - loss: 0.2518 - accuracy: 0.9045 - val_loss: 0.7408 - val_accuracy: 0.7468\n",
            "Epoch 16/20\n",
            "90/90 [==============================] - 26s 291ms/step - loss: 0.2277 - accuracy: 0.9152 - val_loss: 0.6616 - val_accuracy: 0.7474\n",
            "Epoch 17/20\n",
            "90/90 [==============================] - 26s 292ms/step - loss: 0.2140 - accuracy: 0.9225 - val_loss: 0.6490 - val_accuracy: 0.7421\n",
            "Epoch 18/20\n",
            "90/90 [==============================] - 27s 295ms/step - loss: 0.1907 - accuracy: 0.9280 - val_loss: 0.6772 - val_accuracy: 0.7463\n",
            "Epoch 19/20\n",
            "90/90 [==============================] - 27s 295ms/step - loss: 0.1970 - accuracy: 0.9264 - val_loss: 0.7208 - val_accuracy: 0.7489\n",
            "Epoch 20/20\n",
            "90/90 [==============================] - 26s 290ms/step - loss: 0.1870 - accuracy: 0.9243 - val_loss: 0.7524 - val_accuracy: 0.7421\n"
          ],
          "name": "stdout"
        }
      ]
    },
    {
      "cell_type": "code",
      "metadata": {
        "colab": {
          "base_uri": "https://localhost:8080/"
        },
        "id": "lYYd5YknBMc3",
        "outputId": "24fcd2c3-33e8-46dc-c0ba-53d0c5678038"
      },
      "source": [
        "y_pred_bilstm = model.predict_classes(X_val)\n",
        "accuracy_bilstm = accuracy_score(y_pred_bilstm, y_val)\n",
        "print(\"Accuracy of Bidirectiona LSTM: {} %\".format(accuracy_bilstm * 100))"
      ],
      "execution_count": 35,
      "outputs": [
        {
          "output_type": "stream",
          "text": [
            "WARNING:tensorflow:Model was constructed with shape (None, 100) for input KerasTensor(type_spec=TensorSpec(shape=(None, 100), dtype=tf.float32, name='embedding_input'), name='embedding_input', description=\"created by layer 'embedding_input'\"), but it was called on an input with incompatible shape (None, 50).\n"
          ],
          "name": "stdout"
        },
        {
          "output_type": "stream",
          "text": [
            "/usr/local/lib/python3.7/dist-packages/tensorflow/python/keras/engine/sequential.py:450: UserWarning: `model.predict_classes()` is deprecated and will be removed after 2021-01-01. Please use instead:* `np.argmax(model.predict(x), axis=-1)`,   if your model does multi-class classification   (e.g. if it uses a `softmax` last-layer activation).* `(model.predict(x) > 0.5).astype(\"int32\")`,   if your model does binary classification   (e.g. if it uses a `sigmoid` last-layer activation).\n",
            "  warnings.warn('`model.predict_classes()` is deprecated and '\n"
          ],
          "name": "stderr"
        },
        {
          "output_type": "stream",
          "text": [
            "Accuracy of Bidirectiona LSTM: 74.21218487394958 %\n"
          ],
          "name": "stdout"
        }
      ]
    },
    {
      "cell_type": "code",
      "metadata": {
        "colab": {
          "base_uri": "https://localhost:8080/",
          "height": 312
        },
        "id": "Qc1YNc0rBlAL",
        "outputId": "7298a200-91e2-4da5-816e-82cde411ad6d"
      },
      "source": [
        "plt.plot(hist.history['accuracy'], label = 'train_accuracy')\n",
        "plt.plot(hist.history['val_accuracy'], label = 'validation_accuracy')\n",
        "plt.title('Training History')\n",
        "plt.ylabel('Accuracy')\n",
        "plt.xlabel('Epoch')\n",
        "plt.legend()\n",
        "plt.ylim([0,1])\n"
      ],
      "execution_count": 36,
      "outputs": [
        {
          "output_type": "execute_result",
          "data": {
            "text/plain": [
              "(0.0, 1.0)"
            ]
          },
          "metadata": {
            "tags": []
          },
          "execution_count": 36
        },
        {
          "output_type": "display_data",
          "data": {
            "image/png": "[encoded data removed]",
            "text/plain": [
              "<Figure size 432x288 with 1 Axes>"
            ]
          },
          "metadata": {
            "tags": [],
            "needs_background": "light"
          }
        }
      ]
    },
    {
      "cell_type": "markdown",
      "metadata": {
        "id": "srJri48_CH3e"
      },
      "source": [
        "## GRUs"
      ]
    },
    {
      "cell_type": "code",
      "metadata": {
        "id": "zuJRzzunCFCS"
      },
      "source": [
        "model = Sequential()\n",
        "model.add(e)\n",
        "model.add(SpatialDropout1D(0.3))\n",
        "model.add(GRU(100))\n",
        "model.add(Dense(1, activation = 'sigmoid'))\n",
        "model.compile(optimizer = opt, loss = 'binary_crossentropy', metrics = ['accuracy'])\n"
      ],
      "execution_count": 37,
      "outputs": []
    },
    {
      "cell_type": "code",
      "metadata": {
        "colab": {
          "base_uri": "https://localhost:8080/"
        },
        "id": "uHGSDnqBCnT_",
        "outputId": "6c26ff94-e0a7-4f9f-85aa-eecbbe2745b6"
      },
      "source": [
        "hist = model.fit(X_train, y_train, validation_data = (X_val, y_val), epochs = 20, batch_size = 64, verbose = 1)"
      ],
      "execution_count": 38,
      "outputs": [
        {
          "output_type": "stream",
          "text": [
            "Epoch 1/20\n",
            "WARNING:tensorflow:Model was constructed with shape (None, 100) for input KerasTensor(type_spec=TensorSpec(shape=(None, 100), dtype=tf.float32, name='embedding_input'), name='embedding_input', description=\"created by layer 'embedding_input'\"), but it was called on an input with incompatible shape (None, 50).\n",
            "WARNING:tensorflow:Model was constructed with shape (None, 100) for input KerasTensor(type_spec=TensorSpec(shape=(None, 100), dtype=tf.float32, name='embedding_input'), name='embedding_input', description=\"created by layer 'embedding_input'\"), but it was called on an input with incompatible shape (None, 50).\n",
            "87/90 [============================>.] - ETA: 0s - loss: 0.6852 - accuracy: 0.5720WARNING:tensorflow:Model was constructed with shape (None, 100) for input KerasTensor(type_spec=TensorSpec(shape=(None, 100), dtype=tf.float32, name='embedding_input'), name='embedding_input', description=\"created by layer 'embedding_input'\"), but it was called on an input with incompatible shape (None, 50).\n",
            "90/90 [==============================] - 7s 11ms/step - loss: 0.6851 - accuracy: 0.5721 - val_loss: 0.6862 - val_accuracy: 0.5588\n",
            "Epoch 2/20\n",
            "90/90 [==============================] - 1s 6ms/step - loss: 0.6842 - accuracy: 0.5677 - val_loss: 0.6887 - val_accuracy: 0.5588\n",
            "Epoch 3/20\n",
            "90/90 [==============================] - 1s 6ms/step - loss: 0.6816 - accuracy: 0.5774 - val_loss: 0.6866 - val_accuracy: 0.5588\n",
            "Epoch 4/20\n",
            "90/90 [==============================] - 1s 6ms/step - loss: 0.6803 - accuracy: 0.5810 - val_loss: 0.6865 - val_accuracy: 0.5588\n",
            "Epoch 5/20\n",
            "90/90 [==============================] - 1s 6ms/step - loss: 0.6832 - accuracy: 0.5714 - val_loss: 0.6865 - val_accuracy: 0.5588\n",
            "Epoch 6/20\n",
            "90/90 [==============================] - 1s 6ms/step - loss: 0.6839 - accuracy: 0.5687 - val_loss: 0.6867 - val_accuracy: 0.5588\n",
            "Epoch 7/20\n",
            "90/90 [==============================] - 1s 6ms/step - loss: 0.6834 - accuracy: 0.5706 - val_loss: 0.6870 - val_accuracy: 0.5588\n",
            "Epoch 8/20\n",
            "90/90 [==============================] - 1s 6ms/step - loss: 0.6846 - accuracy: 0.5665 - val_loss: 0.6872 - val_accuracy: 0.5588\n",
            "Epoch 9/20\n",
            "90/90 [==============================] - 1s 6ms/step - loss: 0.6816 - accuracy: 0.5773 - val_loss: 0.6862 - val_accuracy: 0.5588\n",
            "Epoch 10/20\n",
            "90/90 [==============================] - 1s 6ms/step - loss: 0.6819 - accuracy: 0.5758 - val_loss: 0.6865 - val_accuracy: 0.5588\n",
            "Epoch 11/20\n",
            "90/90 [==============================] - 1s 6ms/step - loss: 0.6827 - accuracy: 0.5729 - val_loss: 0.6867 - val_accuracy: 0.5588\n",
            "Epoch 12/20\n",
            "90/90 [==============================] - 1s 6ms/step - loss: 0.6827 - accuracy: 0.5726 - val_loss: 0.6868 - val_accuracy: 0.5588\n",
            "Epoch 13/20\n",
            "90/90 [==============================] - 1s 6ms/step - loss: 0.6818 - accuracy: 0.5754 - val_loss: 0.6867 - val_accuracy: 0.5588\n",
            "Epoch 14/20\n",
            "90/90 [==============================] - 1s 6ms/step - loss: 0.6811 - accuracy: 0.5777 - val_loss: 0.6863 - val_accuracy: 0.5588\n",
            "Epoch 15/20\n",
            "90/90 [==============================] - 1s 6ms/step - loss: 0.6836 - accuracy: 0.5689 - val_loss: 0.6865 - val_accuracy: 0.5588\n",
            "Epoch 16/20\n",
            "90/90 [==============================] - 1s 6ms/step - loss: 0.6811 - accuracy: 0.5782 - val_loss: 0.6865 - val_accuracy: 0.5588\n",
            "Epoch 17/20\n",
            "90/90 [==============================] - 1s 6ms/step - loss: 0.6759 - accuracy: 0.5790 - val_loss: 0.6653 - val_accuracy: 0.5588\n",
            "Epoch 18/20\n",
            "90/90 [==============================] - 1s 6ms/step - loss: 0.6383 - accuracy: 0.6019 - val_loss: 0.6671 - val_accuracy: 0.5940\n",
            "Epoch 19/20\n",
            "90/90 [==============================] - 1s 6ms/step - loss: 0.6236 - accuracy: 0.6411 - val_loss: 0.6555 - val_accuracy: 0.6024\n",
            "Epoch 20/20\n",
            "90/90 [==============================] - 1s 6ms/step - loss: 0.6087 - accuracy: 0.6606 - val_loss: 0.6431 - val_accuracy: 0.6360\n"
          ],
          "name": "stdout"
        }
      ]
    },
    {
      "cell_type": "code",
      "metadata": {
        "colab": {
          "base_uri": "https://localhost:8080/"
        },
        "id": "gsqcQQtEDPDj",
        "outputId": "1ff4c2fd-98cf-4970-cca6-1dc2070c0910"
      },
      "source": [
        "y_pred_gru = model.predict_classes(X_val)\n",
        "accuracy_gru = accuracy_score(y_pred_gru, y_val)\n",
        "print('Accuracy of GRU model: {} %'.format(accuracy_gru * 100 ))"
      ],
      "execution_count": 39,
      "outputs": [
        {
          "output_type": "stream",
          "text": [
            "WARNING:tensorflow:Model was constructed with shape (None, 100) for input KerasTensor(type_spec=TensorSpec(shape=(None, 100), dtype=tf.float32, name='embedding_input'), name='embedding_input', description=\"created by layer 'embedding_input'\"), but it was called on an input with incompatible shape (None, 50).\n"
          ],
          "name": "stdout"
        },
        {
          "output_type": "stream",
          "text": [
            "/usr/local/lib/python3.7/dist-packages/tensorflow/python/keras/engine/sequential.py:450: UserWarning: `model.predict_classes()` is deprecated and will be removed after 2021-01-01. Please use instead:* `np.argmax(model.predict(x), axis=-1)`,   if your model does multi-class classification   (e.g. if it uses a `softmax` last-layer activation).* `(model.predict(x) > 0.5).astype(\"int32\")`,   if your model does binary classification   (e.g. if it uses a `sigmoid` last-layer activation).\n",
            "  warnings.warn('`model.predict_classes()` is deprecated and '\n"
          ],
          "name": "stderr"
        },
        {
          "output_type": "stream",
          "text": [
            "Accuracy of GRU model: 63.60294117647059 %\n"
          ],
          "name": "stdout"
        }
      ]
    },
    {
      "cell_type": "code",
      "metadata": {
        "colab": {
          "base_uri": "https://localhost:8080/",
          "height": 295
        },
        "id": "iQypmdZ2DWhL",
        "outputId": "9751408e-bb84-46d6-ba88-db26dfb053f2"
      },
      "source": [
        "plt.plot(hist.history['accuracy'], label='train accuracy')\n",
        "plt.plot(hist.history['val_accuracy'], label='validation accuracy')\n",
        "plt.title('Training history')\n",
        "plt.ylabel('Accuracy')\n",
        "plt.xlabel('Epoch')\n",
        "plt.legend()\n",
        "plt.ylim([0, 1]);"
      ],
      "execution_count": 40,
      "outputs": [
        {
          "output_type": "display_data",
          "data": {
            "image/png": "[encoded data removed]",
            "text/plain": [
              "<Figure size 432x288 with 1 Axes>"
            ]
          },
          "metadata": {
            "tags": [],
            "needs_background": "light"
          }
        }
      ]
    },
    {
      "cell_type": "markdown",
      "metadata": {
        "id": "_ztlyqphDtQk"
      },
      "source": [
        "## Attention Model"
      ]
    },
    {
      "cell_type": "code",
      "metadata": {
        "id": "YhddcbQQHpZO"
      },
      "source": [
        "from keras.layers import Layer\n",
        "import keras.backend as K"
      ],
      "execution_count": 41,
      "outputs": []
    },
    {
      "cell_type": "code",
      "metadata": {
        "id": "9Rf8ru4DHuNJ"
      },
      "source": [
        "class attention(Layer):\n",
        "    def __init__(self,**kwargs):\n",
        "        super(attention,self).__init__(**kwargs)\n",
        "\n",
        "    def build(self,input_shape):\n",
        "        self.W=self.add_weight(name=\"att_weight\",shape=(input_shape[-1],1),initializer=\"normal\")\n",
        "        self.b=self.add_weight(name=\"att_bias\",shape=(input_shape[1],1),initializer=\"zeros\")        \n",
        "        super(attention, self).build(input_shape)\n",
        "\n",
        "    def call(self,x):\n",
        "        et=K.squeeze(K.tanh(K.dot(x,self.W)+self.b),axis=-1)\n",
        "        at=K.softmax(et)\n",
        "        at=K.expand_dims(at,axis=-1)\n",
        "        output=x*at\n",
        "        return K.sum(output,axis=1)\n",
        "\n",
        "    def compute_output_shape(self,input_shape):\n",
        "        return (input_shape[0],input_shape[-1])\n",
        "\n",
        "    def get_config(self):\n",
        "        return super(attention,self).get_config()\n"
      ],
      "execution_count": 42,
      "outputs": []
    },
    {
      "cell_type": "code",
      "metadata": {
        "colab": {
          "base_uri": "https://localhost:8080/"
        },
        "id": "PJKkOyXEJYT7",
        "outputId": "b6a15658-f7b2-4b6a-bc7b-2cf6d3ddf918"
      },
      "source": [
        "inputs=keras.Input(shape=(max_length,))\n",
        "x=(e)(inputs)\n",
        "att_in=LSTM(100,return_sequences=True,dropout=0.3,recurrent_dropout=0.2)(x)\n",
        "att_out=attention()(att_in)\n",
        "outputs=Dense(1,activation='sigmoid',trainable=True)(att_out)\n",
        "modelA=Model(inputs,outputs)\n",
        "modelA.summary()\n"
      ],
      "execution_count": 43,
      "outputs": [
        {
          "output_type": "stream",
          "text": [
            "WARNING:tensorflow:Layer lstm_2 will not use cuDNN kernel since it doesn't meet the cuDNN kernel criteria. It will use generic GPU kernel as fallback when running on GPU\n",
            "Model: \"model\"\n",
            "_________________________________________________________________\n",
            "Layer (type)                 Output Shape              Param #   \n",
            "=================================================================\n",
            "input_1 (InputLayer)         [(None, 50)]              0         \n",
            "_________________________________________________________________\n",
            "embedding (Embedding)        multiple                  3366800   \n",
            "_________________________________________________________________\n",
            "lstm_2 (LSTM)                (None, 50, 100)           120400    \n",
            "_________________________________________________________________\n",
            "attention (attention)        (None, 100)               150       \n",
            "_________________________________________________________________\n",
            "dense_3 (Dense)              (None, 1)                 101       \n",
            "=================================================================\n",
            "Total params: 3,487,451\n",
            "Trainable params: 120,651\n",
            "Non-trainable params: 3,366,800\n",
            "_________________________________________________________________\n"
          ],
          "name": "stdout"
        }
      ]
    },
    {
      "cell_type": "code",
      "metadata": {
        "id": "Pgg__3dUKDc8"
      },
      "source": [
        "modelA.compile(loss = 'binary_crossentropy', optimizer = 'adam', metrics = ['accuracy'])"
      ],
      "execution_count": 44,
      "outputs": []
    },
    {
      "cell_type": "code",
      "metadata": {
        "colab": {
          "base_uri": "https://localhost:8080/"
        },
        "id": "bxB5krJAKq82",
        "outputId": "a5f2c56e-2ad4-489e-a0d4-498c2160d623"
      },
      "source": [
        "history = modelA.fit(X_train, y_train, validation_data = (X_val, y_val), epochs = 20, batch_size = 64, verbose = 1)"
      ],
      "execution_count": 45,
      "outputs": [
        {
          "output_type": "stream",
          "text": [
            "Epoch 1/20\n",
            "90/90 [==============================] - 16s 156ms/step - loss: 0.6728 - accuracy: 0.5802 - val_loss: 0.6431 - val_accuracy: 0.6239\n",
            "Epoch 2/20\n",
            "90/90 [==============================] - 14s 160ms/step - loss: 0.6178 - accuracy: 0.6545 - val_loss: 0.5948 - val_accuracy: 0.6901\n",
            "Epoch 3/20\n",
            "90/90 [==============================] - 14s 157ms/step - loss: 0.5907 - accuracy: 0.6838 - val_loss: 0.5853 - val_accuracy: 0.6954\n",
            "Epoch 4/20\n",
            "90/90 [==============================] - 15s 163ms/step - loss: 0.5677 - accuracy: 0.7178 - val_loss: 0.5804 - val_accuracy: 0.6964\n",
            "Epoch 5/20\n",
            "90/90 [==============================] - 14s 159ms/step - loss: 0.5055 - accuracy: 0.7594 - val_loss: 0.5658 - val_accuracy: 0.7111\n",
            "Epoch 6/20\n",
            "90/90 [==============================] - 14s 158ms/step - loss: 0.5007 - accuracy: 0.7629 - val_loss: 0.5471 - val_accuracy: 0.7285\n",
            "Epoch 7/20\n",
            "90/90 [==============================] - 14s 159ms/step - loss: 0.4709 - accuracy: 0.7840 - val_loss: 0.5363 - val_accuracy: 0.7484\n",
            "Epoch 8/20\n",
            "90/90 [==============================] - 14s 157ms/step - loss: 0.4505 - accuracy: 0.7920 - val_loss: 0.5517 - val_accuracy: 0.7574\n",
            "Epoch 9/20\n",
            "90/90 [==============================] - 14s 157ms/step - loss: 0.4211 - accuracy: 0.8137 - val_loss: 0.5306 - val_accuracy: 0.7616\n",
            "Epoch 10/20\n",
            "90/90 [==============================] - 14s 156ms/step - loss: 0.4025 - accuracy: 0.8291 - val_loss: 0.5442 - val_accuracy: 0.7610\n",
            "Epoch 11/20\n",
            "90/90 [==============================] - 14s 160ms/step - loss: 0.3701 - accuracy: 0.8444 - val_loss: 0.5656 - val_accuracy: 0.7547\n",
            "Epoch 12/20\n",
            "90/90 [==============================] - 14s 156ms/step - loss: 0.3638 - accuracy: 0.8485 - val_loss: 0.5091 - val_accuracy: 0.7637\n",
            "Epoch 13/20\n",
            "90/90 [==============================] - 14s 157ms/step - loss: 0.3647 - accuracy: 0.8507 - val_loss: 0.5866 - val_accuracy: 0.7321\n",
            "Epoch 14/20\n",
            "90/90 [==============================] - 14s 156ms/step - loss: 0.3564 - accuracy: 0.8471 - val_loss: 0.5388 - val_accuracy: 0.7558\n",
            "Epoch 15/20\n",
            "90/90 [==============================] - 14s 156ms/step - loss: 0.3345 - accuracy: 0.8573 - val_loss: 0.5536 - val_accuracy: 0.7558\n",
            "Epoch 16/20\n",
            "90/90 [==============================] - 14s 157ms/step - loss: 0.3107 - accuracy: 0.8746 - val_loss: 0.6617 - val_accuracy: 0.7526\n",
            "Epoch 17/20\n",
            "90/90 [==============================] - 14s 158ms/step - loss: 0.3068 - accuracy: 0.8753 - val_loss: 0.5651 - val_accuracy: 0.7616\n",
            "Epoch 18/20\n",
            "90/90 [==============================] - 14s 157ms/step - loss: 0.2817 - accuracy: 0.8908 - val_loss: 0.6444 - val_accuracy: 0.7321\n",
            "Epoch 19/20\n",
            "90/90 [==============================] - 14s 156ms/step - loss: 0.3058 - accuracy: 0.8702 - val_loss: 0.6823 - val_accuracy: 0.7458\n",
            "Epoch 20/20\n",
            "90/90 [==============================] - 14s 160ms/step - loss: 0.2667 - accuracy: 0.8927 - val_loss: 0.6902 - val_accuracy: 0.7468\n"
          ],
          "name": "stdout"
        }
      ]
    },
    {
      "cell_type": "code",
      "metadata": {
        "colab": {
          "base_uri": "https://localhost:8080/"
        },
        "id": "GoGwwv_EK4Fj",
        "outputId": "06163efd-97bf-47d7-cb65-af59a8c3982a"
      },
      "source": [
        "y_pred_attention = modelA.predict(X_val)\n",
        "for i in range(len(y_pred_attention)):\n",
        "  if(y_pred_attention[i] > 0.5) : \n",
        "    y_pred_attention[i] = 1\n",
        "  else:\n",
        "    y_pred_attention[i] = 0\n",
        "\n",
        "from sklearn.metrics import accuracy_score\n",
        "accuracy_attention = accuracy_score(y_pred_attention, y_val)\n",
        "print(\"The accuracy for the attention model is {} %\".format(accuracy_attention*100))"
      ],
      "execution_count": 46,
      "outputs": [
        {
          "output_type": "stream",
          "text": [
            "The accuracy for the attention model is 74.68487394957984 %\n"
          ],
          "name": "stdout"
        }
      ]
    },
    {
      "cell_type": "code",
      "metadata": {
        "colab": {
          "base_uri": "https://localhost:8080/",
          "height": 295
        },
        "id": "4DsOkIYlLo4H",
        "outputId": "9f13e2cd-f3ce-4a67-e63b-1fe81abbc34e"
      },
      "source": [
        "plt.plot(hist.history['accuracy'], label='train accuracy')\n",
        "plt.plot(hist.history['val_accuracy'], label='validation accuracy')\n",
        "plt.title('Training history')\n",
        "plt.ylabel('Accuracy')\n",
        "plt.xlabel('Epoch')\n",
        "plt.legend()\n",
        "plt.ylim([0, 1]);"
      ],
      "execution_count": 47,
      "outputs": [
        {
          "output_type": "display_data",
          "data": {
            "image/png": "[encoded data removed]",
            "text/plain": [
              "<Figure size 432x288 with 1 Axes>"
            ]
          },
          "metadata": {
            "tags": [],
            "needs_background": "light"
          }
        }
      ]
    },
    {
      "cell_type": "code",
      "metadata": {
        "id": "DyJCVh7VLqI0"
      },
      "source": [
        ""
      ],
      "execution_count": 47,
      "outputs": []
    }
  ]
}