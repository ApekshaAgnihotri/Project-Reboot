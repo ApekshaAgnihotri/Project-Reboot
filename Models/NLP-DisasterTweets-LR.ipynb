{
 "cells": [
  {
   "cell_type": "markdown",
   "metadata": {},
   "source": [
    "## Logistic Regression For binary classification "
   ]
  },
  {
   "cell_type": "code",
   "execution_count": 1,
   "metadata": {},
   "outputs": [],
   "source": [
    "import pandas as pd\n",
    "import numpy as np\n",
    "import matplotlib.pyplot as plt"
   ]
  },
  {
   "cell_type": "code",
   "execution_count": 2,
   "metadata": {},
   "outputs": [],
   "source": [
    "# Read the input training file and create the data frame\n",
    "tweets = pd.read_csv('../Data/clean_train.csv', header = 'infer', delimiter = ',')\n",
    "train_ds = tweets['text']\n",
    "train_labels = tweets['target']"
   ]
  },
  {
   "cell_type": "code",
   "execution_count": 3,
   "metadata": {},
   "outputs": [],
   "source": [
    "# Perform Feature Engineering and k-fold validation\n",
    "# Validation error: Tells us how well the model generalizes in the unseen data. \n",
    "# Traning error: Tells us how well the model learns the input data.\n",
    "\n",
    "from sklearn.model_selection import KFold\n",
    "from sklearn.feature_extraction.text import CountVectorizer\n",
    "from sklearn.linear_model import LogisticRegression\n",
    "\n",
    "\n",
    "def mse_cost(y_pred, y_actual):\n",
    "    return np.mean((y_pred - y_actual) ** 2)\n",
    "\n",
    "def compute_CV_error(X_train, Y_train):\n",
    "    kf = KFold(n_splits=5)\n",
    "    validation_errors = []\n",
    "    training_errors = []\n",
    "    training_accuracy = list()\n",
    "    validation_accuracy = list()\n",
    "    \n",
    "    for train_idx, valid_idx in kf.split(X_train):\n",
    "        # split the data\n",
    "        split_X_train, split_X_valid = X_train[train_idx], X_train[valid_idx]\n",
    "        split_Y_train, split_Y_valid = Y_train.iloc[train_idx], Y_train.iloc[valid_idx]\n",
    "\n",
    "        # Creating BoW \n",
    "        cv = CountVectorizer()\n",
    "        split_X_train_mat = cv.fit_transform(split_X_train)\n",
    "        split_X_test_mat = cv.transform(split_X_valid)\n",
    "        \n",
    "        # Fit the model on the training split\n",
    "        lr_model = LogisticRegression(C=30.0, class_weight='balanced', solver='newton-cg',multi_class='multinomial', n_jobs=-1, random_state=40)\n",
    "        lr_model.fit(split_X_train_mat,split_Y_train)\n",
    "             \n",
    "        # Compute the RMSE on the training split\n",
    "        training_error = mse_cost(split_Y_train, lr_model.predict(split_X_train_mat))\n",
    "        training_errors.append(training_error)\n",
    "        training_accuracy.append(1-training_error)\n",
    "        \n",
    "        # Compute the RMSE on the validation split\n",
    "        validation_error = mse_cost(split_Y_valid,lr_model.predict(split_X_test_mat))\n",
    "        validation_errors.append(validation_error)\n",
    "        validation_accuracy.append(1-validation_error)\n",
    "    \n",
    "    return training_errors,validation_errors,training_accuracy, validation_accuracy\n",
    "\n",
    "training_errors,validation_errors,training_accuracy, validation_accuracy = compute_CV_error(train_ds, train_labels)"
   ]
  },
  {
   "cell_type": "code",
   "execution_count": 4,
   "metadata": {},
   "outputs": [
    {
     "data": {
      "text/plain": [
       "5"
      ]
     },
     "execution_count": 4,
     "metadata": {},
     "output_type": "execute_result"
    }
   ],
   "source": [
    "len(training_errors)"
   ]
  },
  {
   "cell_type": "code",
   "execution_count": 5,
   "metadata": {},
   "outputs": [
    {
     "data": {
      "text/plain": [
       "<matplotlib.legend.Legend at 0x7fce32d3e670>"
      ]
     },
     "execution_count": 5,
     "metadata": {},
     "output_type": "execute_result"
    },
    {
     "data": {
      "image/png": "[encoded data removed]",
      "text/plain": [
       "<Figure size 432x288 with 1 Axes>"
      ]
     },
     "metadata": {
      "needs_background": "light"
     },
     "output_type": "display_data"
    }
   ],
   "source": [
    "x = [1,2,3,4,5]\n",
    "plt.plot( x, training_errors, marker = 'o', color='blue', linewidth=2, label = \"Training Error\")\n",
    "plt.plot( x, validation_errors, marker = 'o', color='red', linewidth=2, label=\"Validation Error\")\n",
    "plt.legend()\n",
    "# From the plot we can see that the model is overfitted. "
   ]
  },
  {
   "cell_type": "code",
   "execution_count": 6,
   "metadata": {},
   "outputs": [
    {
     "data": {
      "text/plain": [
       "LogisticRegression(C=30.0, class_weight='balanced', multi_class='multinomial',\n",
       "                   n_jobs=-1, random_state=40, solver='newton-cg')"
      ]
     },
     "execution_count": 6,
     "metadata": {},
     "output_type": "execute_result"
    }
   ],
   "source": [
    "cv = CountVectorizer()\n",
    "x_train_mat = cv.fit_transform(train_ds)\n",
    "#X_test_docMan = cv.transform(X_test)\n",
    "\n",
    "clf = LogisticRegression(C=30.0, class_weight='balanced', solver='newton-cg',multi_class='multinomial', n_jobs=-1, random_state=40)\n",
    "clf.fit(x_train_mat, train_labels) \n"
   ]
  },
  {
   "cell_type": "code",
   "execution_count": 7,
   "metadata": {},
   "outputs": [],
   "source": [
    "import pickle\n",
    "lr_model_pkl_name = 'TrainedModels/LR_Disaster.pkl'\n",
    "pickle.dump(clf, open(lr_model_pkl_name, 'wb'))"
   ]
  },
  {
   "cell_type": "code",
   "execution_count": 8,
   "metadata": {},
   "outputs": [],
   "source": [
    "################################################\n",
    "## Working on Test data. \n",
    "##\n",
    "################################################"
   ]
  },
  {
   "cell_type": "code",
   "execution_count": 9,
   "metadata": {},
   "outputs": [],
   "source": [
    "test_tweets = pd.read_csv('../Data/clean_test.csv', header = 'infer', delimiter = ',')"
   ]
  },
  {
   "cell_type": "code",
   "execution_count": 10,
   "metadata": {},
   "outputs": [
    {
     "data": {
      "text/html": [
       "<div>\n",
       "<style scoped>\n",
       "    .dataframe tbody tr th:only-of-type {\n",
       "        vertical-align: middle;\n",
       "    }\n",
       "\n",
       "    .dataframe tbody tr th {\n",
       "        vertical-align: top;\n",
       "    }\n",
       "\n",
       "    .dataframe thead th {\n",
       "        text-align: right;\n",
       "    }\n",
       "</style>\n",
       "<table border=\"1\" class=\"dataframe\">\n",
       "  <thead>\n",
       "    <tr style=\"text-align: right;\">\n",
       "      <th></th>\n",
       "      <th>id</th>\n",
       "      <th>text</th>\n",
       "    </tr>\n",
       "  </thead>\n",
       "  <tbody>\n",
       "    <tr>\n",
       "      <th>0</th>\n",
       "      <td>0</td>\n",
       "      <td>just happen a terribl car crash</td>\n",
       "    </tr>\n",
       "    <tr>\n",
       "      <th>1</th>\n",
       "      <td>2</td>\n",
       "      <td>heard about earthquak is differ citi stay safe...</td>\n",
       "    </tr>\n",
       "    <tr>\n",
       "      <th>2</th>\n",
       "      <td>3</td>\n",
       "      <td>there is a forest fire at spot pond gees are f...</td>\n",
       "    </tr>\n",
       "    <tr>\n",
       "      <th>3</th>\n",
       "      <td>9</td>\n",
       "      <td>apocalyps light spokan wildfir</td>\n",
       "    </tr>\n",
       "    <tr>\n",
       "      <th>4</th>\n",
       "      <td>11</td>\n",
       "      <td>typhoon soudelor kill 28 in china and taiwan</td>\n",
       "    </tr>\n",
       "    <tr>\n",
       "      <th>...</th>\n",
       "      <td>...</td>\n",
       "      <td>...</td>\n",
       "    </tr>\n",
       "    <tr>\n",
       "      <th>3258</th>\n",
       "      <td>10861</td>\n",
       "      <td>earthquak safeti lo angel safeti fasten xrwn</td>\n",
       "    </tr>\n",
       "    <tr>\n",
       "      <th>3259</th>\n",
       "      <td>10865</td>\n",
       "      <td>storm in ri wors than last hurrican my citi am...</td>\n",
       "    </tr>\n",
       "    <tr>\n",
       "      <th>3260</th>\n",
       "      <td>10868</td>\n",
       "      <td>green line derail in chicago</td>\n",
       "    </tr>\n",
       "    <tr>\n",
       "      <th>3261</th>\n",
       "      <td>10874</td>\n",
       "      <td>meg issu hazard weather outlook hwo</td>\n",
       "    </tr>\n",
       "    <tr>\n",
       "      <th>3262</th>\n",
       "      <td>10875</td>\n",
       "      <td>cityofcalgari ha activ it municip emerg plan y...</td>\n",
       "    </tr>\n",
       "  </tbody>\n",
       "</table>\n",
       "<p>3263 rows × 2 columns</p>\n",
       "</div>"
      ],
      "text/plain": [
       "         id                                               text\n",
       "0         0                    just happen a terribl car crash\n",
       "1         2  heard about earthquak is differ citi stay safe...\n",
       "2         3  there is a forest fire at spot pond gees are f...\n",
       "3         9                     apocalyps light spokan wildfir\n",
       "4        11       typhoon soudelor kill 28 in china and taiwan\n",
       "...     ...                                                ...\n",
       "3258  10861       earthquak safeti lo angel safeti fasten xrwn\n",
       "3259  10865  storm in ri wors than last hurrican my citi am...\n",
       "3260  10868                       green line derail in chicago\n",
       "3261  10874                meg issu hazard weather outlook hwo\n",
       "3262  10875  cityofcalgari ha activ it municip emerg plan y...\n",
       "\n",
       "[3263 rows x 2 columns]"
      ]
     },
     "execution_count": 10,
     "metadata": {},
     "output_type": "execute_result"
    }
   ],
   "source": [
    "test_tweets"
   ]
  },
  {
   "cell_type": "code",
   "execution_count": 11,
   "metadata": {},
   "outputs": [],
   "source": [
    "test_ds = test_tweets['text']\n"
   ]
  },
  {
   "cell_type": "code",
   "execution_count": 12,
   "metadata": {},
   "outputs": [
    {
     "name": "stdout",
     "output_type": "stream",
     "text": [
      "[1 1 1 ... 1 1 0]\n"
     ]
    }
   ],
   "source": [
    "X_test_mat = cv.transform(test_ds)\n",
    "\n",
    "lr_model_pkl_name = 'TrainedModels/LR_Disaster.pkl'\n",
    "loaded_model = pickle.load(open(lr_model_pkl_name, 'rb'))\n",
    "result = loaded_model.predict(X_test_mat)\n",
    "print(result)"
   ]
  },
  {
   "cell_type": "code",
   "execution_count": 14,
   "metadata": {},
   "outputs": [],
   "source": [
    "predicted_df = pd.DataFrame(columns = ['id', 'target'])\n",
    "predicted_df['target'] = result\n",
    "predicted_df['id'] = test_tweets['id']\n",
    "\n",
    "predicted_df.to_csv('../Data/results_lr.txt', index = False)"
   ]
  },
  {
   "cell_type": "code",
   "execution_count": null,
   "metadata": {},
   "outputs": [],
   "source": []
  },
  {
   "cell_type": "code",
   "execution_count": null,
   "metadata": {},
   "outputs": [],
   "source": []
  }
 ],
 "metadata": {
  "kernelspec": {
   "display_name": "Python 3",
   "language": "python",
   "name": "python3"
  },
  "language_info": {
   "codemirror_mode": {
    "name": "ipython",
    "version": 3
   },
   "file_extension": ".py",
   "mimetype": "text/x-python",
   "name": "python",
   "nbconvert_exporter": "python",
   "pygments_lexer": "ipython3",
   "version": "3.8.5"
  }
 },
 "nbformat": 4,
 "nbformat_minor": 4
}
